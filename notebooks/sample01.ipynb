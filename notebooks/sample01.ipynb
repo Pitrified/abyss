{
 "cells": [
  {
   "cell_type": "markdown",
   "metadata": {},
   "source": [
    "# Sample use of the landmarker class\n"
   ]
  },
  {
   "cell_type": "code",
   "execution_count": null,
   "metadata": {},
   "outputs": [],
   "source": [
    "%load_ext autoreload\n",
    "%autoreload 2"
   ]
  },
  {
   "cell_type": "code",
   "execution_count": null,
   "metadata": {},
   "outputs": [],
   "source": [
    "from abyss.utils.data import get_resource\n",
    "from abyss.video.load import list_video_frames\n",
    "from abyss.utils.plt import show_frame\n",
    "from abyss.landmarker.pose import PoseLandmarkerFrame"
   ]
  },
  {
   "cell_type": "code",
   "execution_count": null,
   "metadata": {},
   "outputs": [],
   "source": [
    "# load the video\n",
    "sample_fp = get_resource(\"pose_fol\") / \"yoga01.mp4\"\n",
    "frames = list_video_frames(sample_fp, 10, 20)\n",
    "show_frame(frames[0])"
   ]
  },
  {
   "cell_type": "code",
   "execution_count": null,
   "metadata": {},
   "outputs": [],
   "source": [
    "# download the model\n",
    "# !wget -O ~/.mediapipe/models/pose_landmarker.task -q https://storage.googleapis.com/mediapipe-models/pose_landmarker/pose_landmarker_heavy/float16/1/pose_landmarker_heavy.task"
   ]
  },
  {
   "cell_type": "code",
   "execution_count": null,
   "metadata": {},
   "outputs": [],
   "source": [
    "# load the model\n",
    "pose_landmark_model_path = get_resource(\"pose_landmarker.task\")\n",
    "plf = PoseLandmarkerFrame(pose_landmark_model_path)\n",
    "\n",
    "# detect the pose\n",
    "plr = plf.detect(frames[0])\n",
    "\n",
    "# show a landmark\n",
    "plr.pose_world_landmarks[0][0]"
   ]
  }
 ],
 "metadata": {
  "kernelspec": {
   "display_name": "abyss-PfOKLd3J-py3.11",
   "language": "python",
   "name": "python3"
  },
  "language_info": {
   "codemirror_mode": {
    "name": "ipython",
    "version": 3
   },
   "file_extension": ".py",
   "mimetype": "text/x-python",
   "name": "python",
   "nbconvert_exporter": "python",
   "pygments_lexer": "ipython3",
   "version": "3.11.6"
  }
 },
 "nbformat": 4,
 "nbformat_minor": 2
}
