{
 "cells": [
  {
   "cell_type": "markdown",
   "metadata": {},
   "source": [
    "# Sample use of the landmarker class\n"
   ]
  },
  {
   "cell_type": "code",
   "execution_count": null,
   "metadata": {},
   "outputs": [],
   "source": [
    "%load_ext autoreload\n",
    "%autoreload 2"
   ]
  },
  {
   "cell_type": "code",
   "execution_count": null,
   "metadata": {},
   "outputs": [],
   "source": [
    "from loguru import logger as lg"
   ]
  },
  {
   "cell_type": "code",
   "execution_count": null,
   "metadata": {},
   "outputs": [],
   "source": [
    "from abyss.utils.data import get_resource\n",
    "from abyss.video.load import list_video_frames\n",
    "from abyss.utils.plt import show_frame\n",
    "from abyss.landmarker.pose import PoseLandmarkerFrame\n",
    "from abyss.utils.mediapipe import get_landmarks_from_result"
   ]
  },
  {
   "cell_type": "code",
   "execution_count": null,
   "metadata": {},
   "outputs": [],
   "source": [
    "# load the video\n",
    "sample_fp = get_resource(\"pose_fol\") / \"yoga01.mp4\"\n",
    "frames = list_video_frames(sample_fp, 10, 20)\n",
    "show_frame(frames[0])"
   ]
  },
  {
   "cell_type": "code",
   "execution_count": null,
   "metadata": {},
   "outputs": [],
   "source": [
    "# download the model\n",
    "# !wget -O ~/.mediapipe/models/pose_landmarker.task -q https://storage.googleapis.com/mediapipe-models/pose_landmarker/pose_landmarker_heavy/float16/1/pose_landmarker_heavy.task"
   ]
  },
  {
   "cell_type": "code",
   "execution_count": null,
   "metadata": {},
   "outputs": [],
   "source": [
    "# load the model\n",
    "\n",
    "\n",
    "pose_landmark_model_path = get_resource(\"pose_landmarker.task\")\n",
    "plf = PoseLandmarkerFrame(pose_landmark_model_path)\n",
    "\n",
    "# detect the pose\n",
    "plr = plf.detect(frames[0])\n",
    "\n",
    "# show a landmark\n",
    "# plr.pose_world_landmarks[0][0]\n",
    "pwl = get_landmarks_from_result(plr, \"world\")\n",
    "if pwl is not None:\n",
    "    lg.debug(pwl[0])\n",
    "    lg.debug(type(pwl))\n",
    "    lg.debug(type(pwl[0]))"
   ]
  },
  {
   "cell_type": "code",
   "execution_count": null,
   "metadata": {},
   "outputs": [],
   "source": [
    "from abyss.landmarker.drawing import draw_landmarks\n",
    "import matplotlib.pyplot as plt\n",
    "\n",
    "annotated_image = draw_landmarks(frames[0], plr)\n",
    "plt.imshow(annotated_image)"
   ]
  }
 ],
 "metadata": {
  "kernelspec": {
   "display_name": "abyss-PfOKLd3J-py3.11",
   "language": "python",
   "name": "python3"
  },
  "language_info": {
   "codemirror_mode": {
    "name": "ipython",
    "version": 3
   },
   "file_extension": ".py",
   "mimetype": "text/x-python",
   "name": "python",
   "nbconvert_exporter": "python",
   "pygments_lexer": "ipython3",
   "version": "3.11.6"
  }
 },
 "nbformat": 4,
 "nbformat_minor": 2
}
